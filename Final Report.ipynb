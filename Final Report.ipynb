{
 "cells": [
  {
   "cell_type": "markdown",
   "metadata": {},
   "source": [
    "# Breaking Down  & Predicting Student Alcoholism\n"
   ]
  },
  {
   "cell_type": "markdown",
   "metadata": {},
   "source": [
    "## Authors : Basazin Belhu, Natnael Eshetu & Connor Garcia "
   ]
  },
  {
   "cell_type": "markdown",
   "metadata": {},
   "source": [
    "### 1 - Summary of Research  Questions & Results"
   ]
  },
  {
   "cell_type": "markdown",
   "metadata": {},
   "source": [
    "#### Question 1\n",
    "###### How is the student performance affected based one their parents' education level and family size? \n",
    "###### Result:\n",
    "TYPE RESULT HERE"
   ]
  },
  {
   "cell_type": "markdown",
   "metadata": {},
   "source": [
    "#### Question 2\n",
    "###### What are the largest contributors for student alcoholism?\n",
    "###### Result:\n",
    "TYPE RESULT HERE"
   ]
  },
  {
   "cell_type": "markdown",
   "metadata": {},
   "source": [
    "#### Question 3\n",
    "###### What are common features of a student alcoholic? (Can we predict if a student will be an alcoholic?\n",
    "###### Result:\n",
    "When using family, school, and personal features we can somewhat confidently predict wheather or not a student is/will harmfull consume alcohol(be a student alcoholic)"
   ]
  },
  {
   "cell_type": "markdown",
   "metadata": {},
   "source": [
    "### 2 - Motivation & Background\n",
    "**Motivation:**  Based on our personal experiences and some evidence we got from people during a random chat about their high school friends, most people have had a friend or know someone that has gone down a bad road due to alcohol. This leads us to believe that there is a significant student population that experience heavy alcohol usage that is not beneficial to them in any way, which can hinder their future. These students usually come from low-income households with little family educational support. Which means with the burden of school already on them they can experience an almost debilitating addiction that can be avoided. \n",
    "\n",
    "**Background:** This data contains a lot of information regarding social, personal, study, and economic for the students and using it we can uncover trends and try to predict student outcomes. Computing these trends, relations, and visualizing the data and doing machine learning tasks matter because the conclusions made from them can help target the specific students that are at risk and prevent them from becoming addicted to alcohol, and having a positive school experience. "
   ]
  },
  {
   "cell_type": "markdown",
   "metadata": {},
   "source": [
    "### 3 - Dataset\n",
    "We will be using the 2016 Student Alcohol Consumption dataset that looks at secondary school students ages(15-22) and their alcohol consumption. Along with alcohol consumption, the data also contains a lot of interesting social, gender and study information about students such as parent’s education, activities, quality of relationships and several others. The data is in the form of a CSV that contains 33 columns and a little over 1000 rows which is relatively small because student observations were only done in math and portugese courses.\n",
    "\n",
    "Link to data set: https://www.kaggle.com/uciml/student-alcohol-consumption#student-mat.cs"
   ]
  },
  {
   "cell_type": "markdown",
   "metadata": {},
   "source": [
    "### 4 - Methodology (Algorithm or Analysis)\n",
    "1) First separate students by their parents education level and family size. We will create a predictive model which will be used to predict students academic performance.\n",
    "\n",
    "2) Determine who is consuming harmful amounts of alcohol. A harmful amount is determined by: if the individual has consumed more than 100g of pure alcohol within an average week, they are in poor physical health (2 or less), more than double the average number of absences, and/or they have failed more than one class. We will assume that 100g of alcohol is consumed if their daily work day and weekend consumptions have a combined sum of 6. From that Determine what factors may have contributed to their state and order them from most to least influential.\n",
    "\n",
    "3) We will run classification and regression machine learning models to predict if a student is an alcoholic and the likeliness of them becoming one. We will also predict if the student will be healthy and their level of alcohol consumption based on their educational habits.\n"
   ]
  },
  {
   "cell_type": "markdown",
   "metadata": {},
   "source": [
    "### 5 - Results"
   ]
  },
  {
   "cell_type": "markdown",
   "metadata": {},
   "source": [
    "#### Question 1\n",
    "###### How is the student performance affected based one their parents' education level and family size? \n",
    "###### Result:\n",
    "TYPE RESULT HERE (ADD IMAGES AS WELL)"
   ]
  },
  {
   "cell_type": "markdown",
   "metadata": {},
   "source": [
    "#### Question 2\n",
    "###### What are the largest contributors for student alcoholism?\n",
    "###### Result:\n",
    "TYPE RESULT HERE (ADD IMAGES AS WELL)"
   ]
  },
  {
   "cell_type": "markdown",
   "metadata": {},
   "source": [
    "#### Question 3\n",
    "###### What are common features of a student alcoholic? (Can we predict if a student will be an alcoholic?\n",
    "###### Result:\n",
    "After running a decision tree classifier and doing K-nearest neighbors on various parts of the data with fairly high accuracy we can say that we can predict a student alcoholic. For the decision tree models we consistently got accuracies in the high 80s regarless if we were using family related data(**family size, mother/father job, family relationship, family support, mother father education, etc**) or school related data (**school travel time, study time, failures, absences, school support, quarterly grades and school support**). Also after visualizing the trees we could see certain interesting trends, for example a student that has a father with a low level education or doesn't have a job usually harmfully consumed alcohol. Another trend that confirmed our predictions is that that students with low school support, a large number of absences and bad grades usually harmfully consumed alcohol. \n",
    "For the K nearest neighbors model we used a small set  personal features(**romantic status, participates in paid activities or non paid activities, do they go out, studytime, and family relationship)**, and had much less accuracy at predicting student alcohol habits. This was to be expected since we were only using two features for each model and a constant K value of 4 and a constant euclidean metric, which are both things that should be manipulated in regards to every combination of features. \n",
    "\n",
    "**_Below are snippits of the family tree, school tree, and a KNNcombination that we created._**\n",
    "![title](Family_tree_sample.png), ![title](School_tree_sample.png), ![title](Knn_sample.png)"
   ]
  },
  {
   "cell_type": "markdown",
   "metadata": {},
   "source": [
    "### 6 - Reproducing Results\n",
    "- Use Anaconda Base environment rather than the CSE163 environment(used packages not on the 163 environment\n",
    "- Make sure all modules that are used in the main are downloaded before running script\n",
    "- Run main method script"
   ]
  },
  {
   "cell_type": "markdown",
   "metadata": {},
   "source": [
    "### 7 - Work Plan Evaluation\n",
    "**Workplan:**\n",
    "\n",
    "_Data Cleaning: Nate_\n",
    "A good chunk of the project will be cleaning the data and getting it ready for analysis. Which means removing or modifying incorrect, incomplete, irrelevant, duplicated or improperly formatted data. Main reason for this is that if we have good quality data going into our analysis and other sections then most likely we will have good quality output in terms of no-bias and avoiding other issues.\n",
    "Estimated time: 3-5 hours\n",
    "\n",
    "_Analysis: Whole Group_\n",
    "During this section we will be doing the main analysis for the project, which means doing basic analyses such as descriptive, exploratory, inferential, and qualitative that can help us tell a story using the data, while at the same time giving us features to use for the machine learning porting of the project\n",
    "Examples of analysis: (common student types to be alcoholics, common background of student alcoholics, what are particular features of student alcoholics, compare how many alcoholics to non-alcoholics, etc.)\n",
    "Estimated time: 12-16 hours\n",
    "\n",
    "_Visualizations: Whole Group_ \n",
    "During this section we will be creating the visualizations to represent our analysis and communicate the relationships within our data. Almost each section of the project will have some type of data to visualize so we will be doing just that because it makes it easier to detect what the numbers that we calculated actually mean\n",
    "Estimated time: 8-10 hours\n",
    "\n",
    "_Machine Learning: Basazin & Nate_\n",
    "During this section we will use the analysis that we used earlier to create features for regression and classification models that we will use to do tasks such as predict a student alcoholic, weekday alcohol consumption and weekend alcohol consumption, predict student health, see if a student has family educational support and so on.\n",
    "Estimated time: 10-12 hours\n",
    "\n",
    "_Group Development & Work Coordination_\n",
    "For the project we will be completing all tasks through Github and completing work on separate branches and merging on a single main branch at the end\n",
    "For the project we have split the work into three large sections (2 analysis portions and one machine learning portion) that will also have visualization sections. Therefore, each group member will get a particular section and work on it themselves\n",
    "We will work on the data cleaning section as a whole and create one standardized dataset to work with. \n",
    "As for variable naming, we will name all variables with an initial of our first names so that when the project is finally merged together, there will be no conflicts.\n",
    "\n",
    "**Workplan Evaluation:**\n",
    "\n",
    "Our workplan estimates were fairly liberal with time so we definetly used a lot less time than what we planned, however our estimates were fairly accurate with the analysis and machine learning sections taking more time than the data cleaning and visualization portions. We also followed it closely so there were no added portions that threw the plan off so it was also good in that sense."
   ]
  },
  {
   "cell_type": "markdown",
   "metadata": {},
   "source": [
    "### 8 - Testing\n",
    "-HERE"
   ]
  },
  {
   "cell_type": "markdown",
   "metadata": {},
   "source": [
    "### 9 - Collaboration\n",
    "Besides the course staff and group mates we recieved no outside help other than research and troubleshooting help that we got from online resources such as StackOverflow and GitHub forums"
   ]
  },
  {
   "cell_type": "code",
   "execution_count": null,
   "metadata": {},
   "outputs": [],
   "source": []
  }
 ],
 "metadata": {
  "kernelspec": {
   "display_name": "Python 3",
   "language": "python",
   "name": "python3"
  },
  "language_info": {
   "codemirror_mode": {
    "name": "ipython",
    "version": 3
   },
   "file_extension": ".py",
   "mimetype": "text/x-python",
   "name": "python",
   "nbconvert_exporter": "python",
   "pygments_lexer": "ipython3",
   "version": "3.7.4"
  }
 },
 "nbformat": 4,
 "nbformat_minor": 2
}
