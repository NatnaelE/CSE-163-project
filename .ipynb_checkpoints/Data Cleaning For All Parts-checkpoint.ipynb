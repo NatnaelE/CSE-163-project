{
 "cells": [
  {
   "cell_type": "code",
   "execution_count": 22,
   "metadata": {},
   "outputs": [],
   "source": [
    "import pandas as pd\n",
    "import numpy as np\n"
   ]
  },
  {
   "cell_type": "code",
   "execution_count": 53,
   "metadata": {},
   "outputs": [],
   "source": [
    "s1 = pd.read_csv('student-mat.csv')\n",
    "s2 = pd.read_csv('student-por.csv')\n",
    "all_students = pd.concat([s1, s2], axis=0)\n",
    "all_students.dropna()\n",
    "all_students.dropna()\n",
    "all_students['Harmful_Consumption'] = 0\n",
    "\n",
    "all_students.loc[((all_students['Dalc'] + all_students['Walc'])>= 6), \n",
    "       'Harmful_Consumption'] = 1"
   ]
  },
  {
   "cell_type": "code",
   "execution_count": 57,
   "metadata": {},
   "outputs": [],
   "source": [
    "all_students.to_csv('Data.csv')"
   ]
  }
 ],
 "metadata": {
  "kernelspec": {
   "display_name": "Python 3",
   "language": "python",
   "name": "python3"
  },
  "language_info": {
   "codemirror_mode": {
    "name": "ipython",
    "version": 3
   },
   "file_extension": ".py",
   "mimetype": "text/x-python",
   "name": "python",
   "nbconvert_exporter": "python",
   "pygments_lexer": "ipython3",
   "version": "3.7.5"
  }
 },
 "nbformat": 4,
 "nbformat_minor": 2
}
